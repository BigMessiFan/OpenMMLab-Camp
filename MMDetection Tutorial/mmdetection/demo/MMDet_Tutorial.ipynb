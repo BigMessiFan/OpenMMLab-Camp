version https://git-lfs.github.com/spec/v1
oid sha256:6d1c5d6e12957a6b75ac44e5af603e539077fd187d4a08b7907bc5d97ed6b454
size 11687073
