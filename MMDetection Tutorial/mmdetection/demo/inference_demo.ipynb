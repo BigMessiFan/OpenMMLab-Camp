version https://git-lfs.github.com/spec/v1
oid sha256:8596013b81d2661644a509b18f9d97277445071dad32b5b571fb3ecdd4efc022
size 956207
