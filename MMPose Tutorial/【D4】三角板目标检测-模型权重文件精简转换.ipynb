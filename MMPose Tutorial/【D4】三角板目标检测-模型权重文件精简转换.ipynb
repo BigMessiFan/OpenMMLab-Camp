version https://git-lfs.github.com/spec/v1
oid sha256:af93d876141716b19c92d959a737527ed1e820814d8771982519e143237b6fa4
size 3992
