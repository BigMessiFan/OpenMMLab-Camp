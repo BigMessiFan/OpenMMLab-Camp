version https://git-lfs.github.com/spec/v1
oid sha256:8a3ec0aac8b8f4a98aa9702fa9210ad842ef252dce4e08d615126df621627c3f
size 1586
