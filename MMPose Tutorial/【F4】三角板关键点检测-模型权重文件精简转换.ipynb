version https://git-lfs.github.com/spec/v1
oid sha256:65d0db1188a631b59c40c58f19421e23c1e11fe3f6b0d815a8747718496d2344
size 2412
