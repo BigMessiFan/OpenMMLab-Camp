version https://git-lfs.github.com/spec/v1
oid sha256:19a00df61f394cfd27dc8b360f91714d2f0b2e83296233f62d64ba253873c371
size 588355
