version https://git-lfs.github.com/spec/v1
oid sha256:14700c3c217abc1715f9c19f214db982303fcbcd7ca844022d680d3dd2fae3f3
size 3264
