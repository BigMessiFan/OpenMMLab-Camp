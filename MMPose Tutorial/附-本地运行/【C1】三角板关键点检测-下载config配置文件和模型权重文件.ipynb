version https://git-lfs.github.com/spec/v1
oid sha256:94134d7187c4da6e48db1163a3b0144990c8ac80f2b7d309cbfd391169843ce1
size 2026
