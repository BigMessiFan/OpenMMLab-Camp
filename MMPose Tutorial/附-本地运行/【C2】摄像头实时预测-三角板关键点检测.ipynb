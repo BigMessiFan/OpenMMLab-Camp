version https://git-lfs.github.com/spec/v1
oid sha256:6bbc21d451669e23b5767c582c01840d316f484ed853143eab9e025d25ea1efb
size 16351
