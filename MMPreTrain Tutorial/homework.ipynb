{
 "cells": [
  {
   "cell_type": "code",
   "execution_count": 2,
   "id": "ff3ff962-685a-4b8d-9979-6273a5726878",
   "metadata": {},
   "outputs": [],
   "source": [
    "# 设置中文字体为黑体\n",
    "import matplotlib as mpl\n",
    "mpl.rcParams['font.family'] = ['sans-serif']\n",
    "mpl.rcParams['font.sans-serif'] = ['SimHei']\n",
    "mpl.rcParams['axes.unicode_minus'] = False"
   ]
  },
  {
   "cell_type": "markdown",
   "id": "951635cd",
   "metadata": {},
   "source": [
    "### 安装MMPreTrain"
   ]
  },
  {
   "cell_type": "code",
   "execution_count": 1,
   "id": "f3d75eba",
   "metadata": {
    "execution": {
     "iopub.execute_input": "2023-06-12T06:45:09.934856Z",
     "iopub.status.busy": "2023-06-12T06:45:09.933527Z",
     "iopub.status.idle": "2023-06-12T06:46:09.229098Z",
     "shell.execute_reply": "2023-06-12T06:46:09.224923Z",
     "shell.execute_reply.started": "2023-06-12T06:45:09.934659Z"
    }
   },
   "outputs": [
    {
     "name": "stdout",
     "output_type": "stream",
     "text": [
      "Cloning into 'mmpretrain'...\n",
      "remote: Enumerating objects: 16751, done.\u001b[K\n",
      "remote: Counting objects: 100% (1582/1582), done.\u001b[K\n",
      "remote: Compressing objects: 100% (624/624), done.\u001b[K\n",
      "remote: Total 16751 (delta 998), reused 1408 (delta 939), pack-reused 15169\u001b[K\n",
      "Receiving objects: 100% (16751/16751), 13.27 MiB | 509.00 KiB/s, done.\n",
      "Resolving deltas: 100% (11629/11629), done.\n",
      "Updating files: 100% (1621/1621), done.\n"
     ]
    }
   ],
   "source": [
    "# !rm -rf mmpretrain\n",
    "# !git clone https://github.com/open-mmlab/mmpretrain"
   ]
  },
  {
   "cell_type": "code",
   "execution_count": 1,
   "id": "799b8559",
   "metadata": {
    "tags": []
   },
   "outputs": [
    {
     "name": "stdout",
     "output_type": "stream",
     "text": [
      "torch                   1.10.0+cu111\n",
      "torch-pruning           0.2.7\n",
      "torchaudio              0.10.0\n",
      "torchvision             0.11.0+cu111\n"
     ]
    }
   ],
   "source": [
    "# 检查平台上 PyTorch 版本\n",
    "!pip list | grep torch"
   ]
  },
  {
   "cell_type": "code",
   "execution_count": 2,
   "id": "7d25965f",
   "metadata": {
    "tags": []
   },
   "outputs": [
    {
     "name": "stderr",
     "output_type": "stream",
     "text": [
      "/usr/local/lib/python3.7/dist-packages/tqdm/auto.py:21: TqdmWarning: IProgress not found. Please update jupyter and ipywidgets. See https://ipywidgets.readthedocs.io/en/stable/user_install.html\n",
      "  from .autonotebook import tqdm as notebook_tqdm\n"
     ]
    }
   ],
   "source": [
    "import torch"
   ]
  },
  {
   "cell_type": "code",
   "execution_count": 3,
   "id": "c76131e5",
   "metadata": {
    "tags": []
   },
   "outputs": [
    {
     "data": {
      "text/plain": [
       "True"
      ]
     },
     "execution_count": 3,
     "metadata": {},
     "output_type": "execute_result"
    }
   ],
   "source": [
    "torch.cuda.is_available()"
   ]
  },
  {
   "cell_type": "code",
   "execution_count": 4,
   "id": "c43fe118",
   "metadata": {
    "tags": []
   },
   "outputs": [
    {
     "name": "stdout",
     "output_type": "stream",
     "text": [
      "Looking in indexes: https://mirrors.cloud.tencent.com/pypi/simple/\n",
      "Requirement already satisfied: openmim in /usr/local/lib/python3.7/dist-packages (0.3.7)\n",
      "Requirement already satisfied: Click in /usr/local/lib/python3.7/dist-packages (from openmim) (8.1.3)\n",
      "Requirement already satisfied: colorama in /usr/local/lib/python3.7/dist-packages (from openmim) (0.4.6)\n",
      "Requirement already satisfied: model-index in /usr/local/lib/python3.7/dist-packages (from openmim) (0.1.11)\n",
      "Requirement already satisfied: pandas in /usr/local/lib/python3.7/dist-packages (from openmim) (1.3.5)\n",
      "Requirement already satisfied: pip>=19.3 in /usr/local/lib/python3.7/dist-packages (from openmim) (23.1.2)\n",
      "Requirement already satisfied: requests in /usr/local/lib/python3.7/dist-packages (from openmim) (2.28.2)\n",
      "Requirement already satisfied: rich in /usr/local/lib/python3.7/dist-packages (from openmim) (13.3.2)\n",
      "Requirement already satisfied: tabulate in /usr/local/lib/python3.7/dist-packages (from openmim) (0.9.0)\n",
      "Requirement already satisfied: importlib-metadata in /usr/local/lib/python3.7/dist-packages (from Click->openmim) (6.0.0)\n",
      "Requirement already satisfied: pyyaml in /usr/local/lib/python3.7/dist-packages (from model-index->openmim) (6.0)\n",
      "Requirement already satisfied: markdown in /usr/local/lib/python3.7/dist-packages (from model-index->openmim) (3.4.1)\n",
      "Requirement already satisfied: ordered-set in /usr/local/lib/python3.7/dist-packages (from model-index->openmim) (4.1.0)\n",
      "Requirement already satisfied: python-dateutil>=2.7.3 in /usr/local/lib/python3.7/dist-packages (from pandas->openmim) (2.8.2)\n",
      "Requirement already satisfied: pytz>=2017.3 in /usr/local/lib/python3.7/dist-packages (from pandas->openmim) (2022.7.1)\n",
      "Requirement already satisfied: numpy>=1.17.3 in /usr/local/lib/python3.7/dist-packages (from pandas->openmim) (1.21.6)\n",
      "Requirement already satisfied: charset-normalizer<4,>=2 in /usr/local/lib/python3.7/dist-packages (from requests->openmim) (3.1.0)\n",
      "Requirement already satisfied: idna<4,>=2.5 in /usr/local/lib/python3.7/dist-packages (from requests->openmim) (3.4)\n",
      "Requirement already satisfied: urllib3<1.27,>=1.21.1 in /usr/local/lib/python3.7/dist-packages (from requests->openmim) (1.26.15)\n",
      "Requirement already satisfied: certifi>=2017.4.17 in /usr/lib/python3/dist-packages (from requests->openmim) (2018.1.18)\n",
      "Requirement already satisfied: markdown-it-py<3.0.0,>=2.2.0 in /usr/local/lib/python3.7/dist-packages (from rich->openmim) (2.2.0)\n",
      "Requirement already satisfied: pygments<3.0.0,>=2.13.0 in /usr/local/lib/python3.7/dist-packages (from rich->openmim) (2.14.0)\n",
      "Requirement already satisfied: typing-extensions<5.0,>=4.0.0 in /usr/local/lib/python3.7/dist-packages (from rich->openmim) (4.5.0)\n",
      "Requirement already satisfied: mdurl~=0.1 in /usr/local/lib/python3.7/dist-packages (from markdown-it-py<3.0.0,>=2.2.0->rich->openmim) (0.1.2)\n",
      "Requirement already satisfied: six>=1.5 in /usr/lib/python3/dist-packages (from python-dateutil>=2.7.3->pandas->openmim) (1.11.0)\n",
      "Requirement already satisfied: zipp>=0.5 in /usr/local/lib/python3.7/dist-packages (from importlib-metadata->Click->openmim) (3.15.0)\n",
      "\u001b[33mWARNING: Running pip as the 'root' user can result in broken permissions and conflicting behaviour with the system package manager. It is recommended to use a virtual environment instead: https://pip.pypa.io/warnings/venv\u001b[0m\u001b[33m\n",
      "\u001b[0mNote: you may need to restart the kernel to use updated packages.\n"
     ]
    }
   ],
   "source": [
    "%pip install openmim"
   ]
  },
  {
   "cell_type": "code",
   "execution_count": 5,
   "id": "fb2eafbf",
   "metadata": {
    "tags": []
   },
   "outputs": [
    {
     "name": "stdout",
     "output_type": "stream",
     "text": [
      "/project/train/src_repo/MMPreTrain Tutorial/mmpretrain\n"
     ]
    }
   ],
   "source": [
    "%cd mmpretrain"
   ]
  },
  {
   "cell_type": "code",
   "execution_count": 6,
   "id": "b1a5883d",
   "metadata": {
    "tags": []
   },
   "outputs": [
    {
     "name": "stdout",
     "output_type": "stream",
     "text": [
      "Looking in indexes: https://mirrors.cloud.tencent.com/pypi/simple/\n",
      "Looking in links: https://download.openmmlab.com/mmcv/dist/cu111/torch1.10.0/index.html\n",
      "Processing /project/train/src_repo/MMPreTrain Tutorial/mmpretrain\n",
      "  Preparing metadata (setup.py) ... \u001b[?25ldone\n",
      "\u001b[?25hRequirement already satisfied: einops in /usr/local/lib/python3.7/dist-packages (from mmpretrain==1.0.0rc8) (0.6.1)\n",
      "Requirement already satisfied: importlib-metadata in /usr/local/lib/python3.7/dist-packages (from mmpretrain==1.0.0rc8) (6.0.0)\n",
      "Requirement already satisfied: mat4py in /usr/local/lib/python3.7/dist-packages (from mmpretrain==1.0.0rc8) (0.5.0)\n",
      "Requirement already satisfied: matplotlib in /usr/local/lib/python3.7/dist-packages (from mmpretrain==1.0.0rc8) (3.5.3)\n",
      "Requirement already satisfied: modelindex in /usr/local/lib/python3.7/dist-packages (from mmpretrain==1.0.0rc8) (0.0.2)\n",
      "Requirement already satisfied: numpy in /usr/local/lib/python3.7/dist-packages (from mmpretrain==1.0.0rc8) (1.21.6)\n",
      "Requirement already satisfied: rich in /usr/local/lib/python3.7/dist-packages (from mmpretrain==1.0.0rc8) (13.3.2)\n",
      "Requirement already satisfied: pycocotools in /usr/local/lib/python3.7/dist-packages (from mmpretrain==1.0.0rc8) (2.0.6)\n",
      "Requirement already satisfied: transformers>=4.28.0 in /usr/local/lib/python3.7/dist-packages (from mmpretrain==1.0.0rc8) (4.30.1)\n",
      "Requirement already satisfied: mmcv<2.1.0,>=2.0.0rc4 in /usr/local/lib/python3.7/dist-packages (from mmpretrain==1.0.0rc8) (2.0.0)\n",
      "Requirement already satisfied: mmengine<1.0.0,>=0.4.0 in /usr/local/lib/python3.7/dist-packages (from mmpretrain==1.0.0rc8) (0.7.3)\n",
      "Requirement already satisfied: addict in /usr/local/lib/python3.7/dist-packages (from mmcv<2.1.0,>=2.0.0rc4->mmpretrain==1.0.0rc8) (2.4.0)\n",
      "Requirement already satisfied: packaging in /usr/local/lib/python3.7/dist-packages (from mmcv<2.1.0,>=2.0.0rc4->mmpretrain==1.0.0rc8) (23.0)\n",
      "Requirement already satisfied: Pillow in /usr/local/lib/python3.7/dist-packages (from mmcv<2.1.0,>=2.0.0rc4->mmpretrain==1.0.0rc8) (9.4.0)\n",
      "Requirement already satisfied: pyyaml in /usr/local/lib/python3.7/dist-packages (from mmcv<2.1.0,>=2.0.0rc4->mmpretrain==1.0.0rc8) (6.0)\n",
      "Requirement already satisfied: yapf in /usr/local/lib/python3.7/dist-packages (from mmcv<2.1.0,>=2.0.0rc4->mmpretrain==1.0.0rc8) (0.33.0)\n",
      "Requirement already satisfied: opencv-python>=3 in /usr/local/lib/python3.7/dist-packages (from mmcv<2.1.0,>=2.0.0rc4->mmpretrain==1.0.0rc8) (4.7.0.72)\n",
      "Requirement already satisfied: termcolor in /usr/local/lib/python3.7/dist-packages (from mmengine<1.0.0,>=0.4.0->mmpretrain==1.0.0rc8) (2.3.0)\n",
      "Requirement already satisfied: filelock in /usr/local/lib/python3.7/dist-packages (from transformers>=4.28.0->mmpretrain==1.0.0rc8) (3.12.1)\n",
      "Requirement already satisfied: huggingface-hub<1.0,>=0.14.1 in /usr/local/lib/python3.7/dist-packages (from transformers>=4.28.0->mmpretrain==1.0.0rc8) (0.15.1)\n",
      "Requirement already satisfied: regex!=2019.12.17 in /usr/local/lib/python3.7/dist-packages (from transformers>=4.28.0->mmpretrain==1.0.0rc8) (2023.6.3)\n",
      "Requirement already satisfied: requests in /usr/local/lib/python3.7/dist-packages (from transformers>=4.28.0->mmpretrain==1.0.0rc8) (2.28.2)\n",
      "Requirement already satisfied: tokenizers!=0.11.3,<0.14,>=0.11.1 in /usr/local/lib/python3.7/dist-packages (from transformers>=4.28.0->mmpretrain==1.0.0rc8) (0.13.3)\n",
      "Requirement already satisfied: safetensors>=0.3.1 in /usr/local/lib/python3.7/dist-packages (from transformers>=4.28.0->mmpretrain==1.0.0rc8) (0.3.1)\n",
      "Requirement already satisfied: tqdm>=4.27 in /usr/local/lib/python3.7/dist-packages (from transformers>=4.28.0->mmpretrain==1.0.0rc8) (4.65.0)\n",
      "Requirement already satisfied: zipp>=0.5 in /usr/local/lib/python3.7/dist-packages (from importlib-metadata->mmpretrain==1.0.0rc8) (3.15.0)\n",
      "Requirement already satisfied: typing-extensions>=3.6.4 in /usr/local/lib/python3.7/dist-packages (from importlib-metadata->mmpretrain==1.0.0rc8) (4.5.0)\n",
      "Requirement already satisfied: cycler>=0.10 in /usr/local/lib/python3.7/dist-packages (from matplotlib->mmpretrain==1.0.0rc8) (0.11.0)\n",
      "Requirement already satisfied: fonttools>=4.22.0 in /usr/local/lib/python3.7/dist-packages (from matplotlib->mmpretrain==1.0.0rc8) (4.38.0)\n",
      "Requirement already satisfied: kiwisolver>=1.0.1 in /usr/local/lib/python3.7/dist-packages (from matplotlib->mmpretrain==1.0.0rc8) (1.4.4)\n",
      "Requirement already satisfied: pyparsing>=2.2.1 in /usr/local/lib/python3.7/dist-packages (from matplotlib->mmpretrain==1.0.0rc8) (3.0.9)\n",
      "Requirement already satisfied: python-dateutil>=2.7 in /usr/local/lib/python3.7/dist-packages (from matplotlib->mmpretrain==1.0.0rc8) (2.8.2)\n",
      "Requirement already satisfied: model-index in /usr/local/lib/python3.7/dist-packages (from modelindex->mmpretrain==1.0.0rc8) (0.1.11)\n",
      "Requirement already satisfied: markdown-it-py<3.0.0,>=2.2.0 in /usr/local/lib/python3.7/dist-packages (from rich->mmpretrain==1.0.0rc8) (2.2.0)\n",
      "Requirement already satisfied: pygments<3.0.0,>=2.13.0 in /usr/local/lib/python3.7/dist-packages (from rich->mmpretrain==1.0.0rc8) (2.14.0)\n",
      "Requirement already satisfied: fsspec in /usr/local/lib/python3.7/dist-packages (from huggingface-hub<1.0,>=0.14.1->transformers>=4.28.0->mmpretrain==1.0.0rc8) (2023.1.0)\n",
      "Requirement already satisfied: mdurl~=0.1 in /usr/local/lib/python3.7/dist-packages (from markdown-it-py<3.0.0,>=2.2.0->rich->mmpretrain==1.0.0rc8) (0.1.2)\n",
      "Requirement already satisfied: six>=1.5 in /usr/lib/python3/dist-packages (from python-dateutil>=2.7->matplotlib->mmpretrain==1.0.0rc8) (1.11.0)\n",
      "Requirement already satisfied: markdown in /usr/local/lib/python3.7/dist-packages (from model-index->modelindex->mmpretrain==1.0.0rc8) (3.4.1)\n",
      "Requirement already satisfied: ordered-set in /usr/local/lib/python3.7/dist-packages (from model-index->modelindex->mmpretrain==1.0.0rc8) (4.1.0)\n",
      "Requirement already satisfied: click in /usr/local/lib/python3.7/dist-packages (from model-index->modelindex->mmpretrain==1.0.0rc8) (8.1.3)\n",
      "Requirement already satisfied: charset-normalizer<4,>=2 in /usr/local/lib/python3.7/dist-packages (from requests->transformers>=4.28.0->mmpretrain==1.0.0rc8) (3.1.0)\n",
      "Requirement already satisfied: idna<4,>=2.5 in /usr/local/lib/python3.7/dist-packages (from requests->transformers>=4.28.0->mmpretrain==1.0.0rc8) (3.4)\n",
      "Requirement already satisfied: urllib3<1.27,>=1.21.1 in /usr/local/lib/python3.7/dist-packages (from requests->transformers>=4.28.0->mmpretrain==1.0.0rc8) (1.26.15)\n",
      "Requirement already satisfied: certifi>=2017.4.17 in /usr/lib/python3/dist-packages (from requests->transformers>=4.28.0->mmpretrain==1.0.0rc8) (2018.1.18)\n",
      "Requirement already satisfied: tomli>=2.0.1 in /usr/local/lib/python3.7/dist-packages (from yapf->mmcv<2.1.0,>=2.0.0rc4->mmpretrain==1.0.0rc8) (2.0.1)\n",
      "Building wheels for collected packages: mmpretrain\n",
      "  Building wheel for mmpretrain (setup.py) ... \u001b[?25ldone\n",
      "\u001b[?25h  Created wheel for mmpretrain: filename=mmpretrain-1.0.0rc8-py2.py3-none-any.whl size=1402844 sha256=b426399d31f006f586ea7740c446253180b627b66696c81bf8fd65d285613665\n",
      "  Stored in directory: /tmp/pip-ephem-wheel-cache-s252vvif/wheels/79/f3/0b/c67b41130668df9e99e4ea4c730e4eaa3c5a9f042ab9cabdf8\n",
      "Successfully built mmpretrain\n",
      "Installing collected packages: mmpretrain\n",
      "  Attempting uninstall: mmpretrain\n",
      "    Found existing installation: mmpretrain 1.0.0rc8\n",
      "    Can't uninstall 'mmpretrain'. No files were found to uninstall.\n",
      "Successfully installed mmpretrain-1.0.0rc8\n",
      "\u001b[33mWARNING: Running pip as the 'root' user can result in broken permissions and conflicting behaviour with the system package manager. It is recommended to use a virtual environment instead: https://pip.pypa.io/warnings/venv\u001b[0m\u001b[33m\n",
      "\u001b[0m"
     ]
    }
   ],
   "source": [
    "!mim install \".[multimodal]\""
   ]
  },
  {
   "cell_type": "code",
   "execution_count": 7,
   "id": "e869280f",
   "metadata": {
    "tags": []
   },
   "outputs": [
    {
     "name": "stdout",
     "output_type": "stream",
     "text": [
      "/project/train/src_repo/MMPreTrain Tutorial\n"
     ]
    }
   ],
   "source": [
    "%cd .."
   ]
  },
  {
   "cell_type": "code",
   "execution_count": 8,
   "id": "3f13e1b9",
   "metadata": {
    "tags": []
   },
   "outputs": [],
   "source": [
    "# import os, sys\n",
    "# sys.path.insert(0, os.path.join(os.getcwd(), \"mmpretrain\"))"
   ]
  },
  {
   "cell_type": "markdown",
   "id": "3f517cac",
   "metadata": {},
   "source": [
    "### 通过预训练模型进行推理"
   ]
  },
  {
   "cell_type": "code",
   "execution_count": 9,
   "id": "2922e79f",
   "metadata": {
    "tags": []
   },
   "outputs": [
    {
     "name": "stdout",
     "output_type": "stream",
     "text": [
      "2.0.0\n"
     ]
    }
   ],
   "source": [
    "import mmcv\n",
    "print(mmcv.__version__)"
   ]
  },
  {
   "cell_type": "code",
   "execution_count": 10,
   "id": "62a2e806",
   "metadata": {
    "tags": []
   },
   "outputs": [
    {
     "name": "stdout",
     "output_type": "stream",
     "text": [
      "1.0.0rc8\n"
     ]
    }
   ],
   "source": [
    "import mmpretrain\n",
    "print(mmpretrain.__version__)"
   ]
  },
  {
   "cell_type": "code",
   "execution_count": 11,
   "id": "dddd4444",
   "metadata": {
    "tags": []
   },
   "outputs": [],
   "source": [
    "%matplotlib inline"
   ]
  },
  {
   "cell_type": "code",
   "execution_count": 8,
   "id": "708fbd64",
   "metadata": {
    "tags": []
   },
   "outputs": [],
   "source": [
    "from mmpretrain import get_model, list_models, inference_model"
   ]
  },
  {
   "cell_type": "code",
   "execution_count": 13,
   "id": "3464479f",
   "metadata": {
    "tags": []
   },
   "outputs": [
    {
     "data": {
      "text/plain": [
       "['resnet50_8xb16_cifar10',\n",
       " 'resnet50_8xb16_cifar100',\n",
       " 'resnet50_8xb256-rsb-a1-600e_in1k',\n",
       " 'resnet50_8xb256-rsb-a2-300e_in1k',\n",
       " 'resnet50_8xb256-rsb-a3-100e_in1k',\n",
       " 'resnet50_8xb32-fp16_in1k',\n",
       " 'resnet50_8xb32_in1k',\n",
       " 'resnet50_8xb8_cub',\n",
       " 'resnet50_barlowtwins-pre_8xb32-linear-coslr-100e_in1k',\n",
       " 'resnet50_byol-pre_8xb512-linear-coslr-90e_in1k',\n",
       " 'resnet50_densecl-pre_8xb32-linear-steplr-100e_in1k',\n",
       " 'resnet50_mocov2-pre_8xb32-linear-steplr-100e_in1k',\n",
       " 'resnet50_mocov3-100e-pre_8xb128-linear-coslr-90e_in1k',\n",
       " 'resnet50_mocov3-300e-pre_8xb128-linear-coslr-90e_in1k',\n",
       " 'resnet50_mocov3-800e-pre_8xb128-linear-coslr-90e_in1k',\n",
       " 'resnet50_simclr-200e-pre_8xb512-linear-coslr-90e_in1k',\n",
       " 'resnet50_simclr-800e-pre_8xb512-linear-coslr-90e_in1k',\n",
       " 'resnet50_simsiam-100e-pre_8xb512-linear-coslr-90e_in1k',\n",
       " 'resnet50_simsiam-200e-pre_8xb512-linear-coslr-90e_in1k',\n",
       " 'resnet50_swav-pre_8xb32-linear-coslr-100e_in1k']"
      ]
     },
     "execution_count": 13,
     "metadata": {},
     "output_type": "execute_result"
    }
   ],
   "source": [
    "# 获取分类任务中ResNet50相关模型\n",
    "list_models(task=\"Image Classification\", pattern=\"resnet50\")"
   ]
  },
  {
   "cell_type": "code",
   "execution_count": 9,
   "id": "b304ef1a",
   "metadata": {
    "tags": []
   },
   "outputs": [
    {
     "name": "stdout",
     "output_type": "stream",
     "text": [
      "Loads checkpoint by local backend from path: resnet50_b16x8_cifar100_20210528-67b58a1b.pth\n"
     ]
    }
   ],
   "source": [
    "model = get_model(\"resnet50_8xb16_cifar100\", pretrained=\"resnet50_b16x8_cifar100_20210528-67b58a1b.pth\")"
   ]
  },
  {
   "cell_type": "code",
   "execution_count": 10,
   "id": "de33ba7a",
   "metadata": {
    "tags": []
   },
   "outputs": [
    {
     "data": {
      "text/html": [
       "<pre style=\"white-space:pre;overflow-x:auto;line-height:normal;font-family:Menlo,'DejaVu Sans Mono',consolas,'Courier New',monospace\"></pre>\n"
      ],
      "text/plain": []
     },
     "metadata": {},
     "output_type": "display_data"
    },
    {
     "data": {
      "text/plain": [
       "{'pred_scores': array([1.76979840e-04, 6.75573829e-05, 2.24929954e-05, 4.90205013e-04,\n",
       "        8.74951438e-05, 2.97901370e-05, 3.01976597e-05, 1.48713661e-04,\n",
       "        7.39418056e-06, 2.52047437e-04, 3.08485876e-04, 3.09488787e-05,\n",
       "        1.29062057e-04, 8.83977282e-06, 9.37155892e-06, 1.20116956e-05,\n",
       "        1.06703948e-04, 4.16873554e-05, 3.08000541e-04, 3.06383263e-05,\n",
       "        8.40451321e-06, 1.97563932e-04, 5.27972043e-05, 6.81782186e-01,\n",
       "        5.38335356e-04, 1.73908414e-03, 6.79678706e-05, 2.40549707e-05,\n",
       "        1.30534772e-05, 2.04960688e-05, 2.96097714e-05, 4.20133911e-05,\n",
       "        6.37296980e-05, 7.15017878e-03, 1.75684563e-05, 6.00943758e-06,\n",
       "        4.20951656e-05, 1.59980773e-05, 1.78065638e-05, 2.94449423e-02,\n",
       "        4.28264248e-05, 9.89732871e-06, 2.89066811e-05, 2.49186887e-05,\n",
       "        1.27154899e-05, 1.93016982e-04, 1.53905494e-04, 3.00252741e-05,\n",
       "        6.58243744e-06, 9.16856865e-04, 3.70683774e-05, 1.88477879e-05,\n",
       "        1.94996774e-05, 6.63902320e-05, 2.61332953e-05, 3.48816364e-04,\n",
       "        1.57426388e-04, 1.90858365e-04, 3.72701106e-05, 3.29994655e-05,\n",
       "        2.12333705e-02, 4.05330575e-05, 1.27526382e-05, 2.37604199e-05,\n",
       "        8.32439764e-05, 2.68065865e-04, 4.59863368e-05, 2.90992873e-04,\n",
       "        2.47538032e-04, 5.84625814e-05, 3.30440889e-05, 2.45590150e-01,\n",
       "        2.74429149e-05, 2.58239219e-04, 9.80422628e-05, 9.07832058e-04,\n",
       "        3.00008454e-04, 8.99700972e-05, 1.88855010e-05, 5.30741054e-05,\n",
       "        4.43700774e-05, 2.33233513e-05, 2.06262208e-04, 3.03352688e-04,\n",
       "        3.33290591e-05, 2.12497966e-04, 2.61681871e-05, 4.82983800e-04,\n",
       "        3.12680670e-04, 2.11423485e-05, 3.00772052e-04, 3.24358152e-05,\n",
       "        6.59647922e-05, 5.32848026e-06, 1.04000705e-04, 4.89978775e-05,\n",
       "        3.52829142e-04, 4.74054150e-06, 7.94201405e-05, 1.73046626e-03],\n",
       "       dtype=float32),\n",
       " 'pred_label': 23,\n",
       " 'pred_score': 0.6817821860313416,\n",
       " 'pred_class': 'cloud'}"
      ]
     },
     "execution_count": 10,
     "metadata": {},
     "output_type": "execute_result"
    }
   ],
   "source": [
    "inference_model(model, 'mmpretrain/demo/bird.JPEG', show=True)"
   ]
  },
  {
   "cell_type": "markdown",
   "id": "d685a5af",
   "metadata": {
    "execution": {
     "iopub.execute_input": "2023-06-07T13:11:06.418826Z",
     "iopub.status.busy": "2023-06-07T13:11:06.418121Z",
     "iopub.status.idle": "2023-06-07T13:11:06.425984Z",
     "shell.execute_reply": "2023-06-07T13:11:06.424680Z",
     "shell.execute_reply.started": "2023-06-07T13:11:06.418767Z"
    }
   },
   "source": [
    "### 配置文件介绍"
   ]
  },
  {
   "cell_type": "markdown",
   "id": "df12baec",
   "metadata": {},
   "source": [
    "- 包含一系列嵌套字典\n",
    "- 构造模型结构\n",
    "    - backbone：主干网络\n",
    "    - neck：融合从主干网络提取到的不同尺度的特征\n",
    "    - head：下游任务相关的模型结构"
   ]
  },
  {
   "cell_type": "markdown",
   "id": "f258cdbf",
   "metadata": {
    "execution": {
     "iopub.execute_input": "2023-06-07T13:25:56.407809Z",
     "iopub.status.busy": "2023-06-07T13:25:56.407106Z",
     "iopub.status.idle": "2023-06-07T13:25:56.417974Z",
     "shell.execute_reply": "2023-06-07T13:25:56.415867Z",
     "shell.execute_reply.started": "2023-06-07T13:25:56.407750Z"
    }
   },
   "source": [
    "- 以ResNet50模型为例，在配置文件中模型结构的定义为："
   ]
  },
  {
   "cell_type": "code",
   "execution_count": 16,
   "id": "96b6943e",
   "metadata": {
    "tags": []
   },
   "outputs": [],
   "source": [
    "# model settings\n",
    "model = dict(\n",
    "    type='ImageClassifier',\n",
    "    backbone=dict(\n",
    "        type='ResNet_CIFAR',\n",
    "        depth=50,\n",
    "        num_stages=4,\n",
    "        out_indices=(3, ),\n",
    "        style='pytorch'),\n",
    "    neck=dict(type='GlobalAveragePooling'),\n",
    "    head=dict(\n",
    "        type='LinearClsHead',\n",
    "        num_classes=10,\n",
    "        in_channels=2048,\n",
    "        loss=dict(type='CrossEntropyLoss', loss_weight=1.0),\n",
    "    ))"
   ]
  },
  {
   "cell_type": "markdown",
   "id": "b3f83bf1",
   "metadata": {
    "execution": {
     "iopub.execute_input": "2023-06-07T13:34:50.952826Z",
     "iopub.status.busy": "2023-06-07T13:34:50.952147Z",
     "iopub.status.idle": "2023-06-07T13:34:50.962962Z",
     "shell.execute_reply": "2023-06-07T13:34:50.960940Z",
     "shell.execute_reply.started": "2023-06-07T13:34:50.952768Z"
    }
   },
   "source": [
    "- 在配置文件中，数据预处理、训练、验证和测试的pipeline的定义如下："
   ]
  },
  {
   "cell_type": "code",
   "execution_count": 17,
   "id": "35610623",
   "metadata": {
    "tags": []
   },
   "outputs": [],
   "source": [
    "# dataset settings\n",
    "dataset_type = 'CIFAR10'\n",
    "data_preprocessor = dict(\n",
    "    num_classes=10,\n",
    "    # RGB format normalization parameters\n",
    "    mean=[125.307, 122.961, 113.8575],\n",
    "    std=[51.5865, 50.847, 51.255],\n",
    "    # loaded images are already RGB format\n",
    "    to_rgb=False)\n",
    "\n",
    "train_pipeline = [\n",
    "    dict(type='RandomCrop', crop_size=32, padding=4),\n",
    "    dict(type='RandomFlip', prob=0.5, direction='horizontal'),\n",
    "    dict(type='PackInputs'),\n",
    "]\n",
    "\n",
    "test_pipeline = [\n",
    "    dict(type='PackInputs'),\n",
    "]\n",
    "\n",
    "train_dataloader = dict(\n",
    "    batch_size=16,\n",
    "    num_workers=2,\n",
    "    dataset=dict(\n",
    "        type=dataset_type,\n",
    "        data_root='data/cifar10',\n",
    "        split='train',\n",
    "        pipeline=train_pipeline),\n",
    "    sampler=dict(type='DefaultSampler', shuffle=True),\n",
    ")\n",
    "\n",
    "val_dataloader = dict(\n",
    "    batch_size=16,\n",
    "    num_workers=2,\n",
    "    dataset=dict(\n",
    "        type=dataset_type,\n",
    "        data_root='data/cifar10/',\n",
    "        split='test',\n",
    "        pipeline=test_pipeline),\n",
    "    sampler=dict(type='DefaultSampler', shuffle=False),\n",
    ")\n",
    "val_evaluator = dict(type='Accuracy', topk=(1, ))\n",
    "\n",
    "test_dataloader = val_dataloader\n",
    "test_evaluator = val_evaluator"
   ]
  },
  {
   "cell_type": "markdown",
   "id": "514cdf32",
   "metadata": {},
   "source": [
    "- 其他的一些和模型训练、验证和测试的全流程相关的配置如下："
   ]
  },
  {
   "cell_type": "code",
   "execution_count": 18,
   "id": "d90dbe40",
   "metadata": {
    "tags": []
   },
   "outputs": [],
   "source": [
    "# defaults to use registries in mmpretrain\n",
    "default_scope = 'mmpretrain'\n",
    "\n",
    "# configure default hooks\n",
    "default_hooks = dict(\n",
    "    # record the time of every iteration.\n",
    "    timer=dict(type='IterTimerHook'),\n",
    "\n",
    "    # print log every 100 iterations.\n",
    "    logger=dict(type='LoggerHook', interval=100),\n",
    "\n",
    "    # enable the parameter scheduler.\n",
    "    param_scheduler=dict(type='ParamSchedulerHook'),\n",
    "\n",
    "    # save checkpoint per epoch.\n",
    "    checkpoint=dict(type='CheckpointHook', interval=1),\n",
    "\n",
    "    # set sampler seed in distributed evrionment.\n",
    "    sampler_seed=dict(type='DistSamplerSeedHook'),\n",
    "\n",
    "    # validation results visualization, set True to enable it.\n",
    "    visualization=dict(type='VisualizationHook', enable=False),\n",
    ")\n",
    "\n",
    "# configure environment\n",
    "env_cfg = dict(\n",
    "    # whether to enable cudnn benchmark\n",
    "    cudnn_benchmark=False,\n",
    "\n",
    "    # set multi process parameters\n",
    "    mp_cfg=dict(mp_start_method='fork', opencv_num_threads=0),\n",
    "\n",
    "    # set distributed parameters\n",
    "    dist_cfg=dict(backend='nccl'),\n",
    ")\n",
    "\n",
    "# set visualizer\n",
    "vis_backends = [dict(type='LocalVisBackend')]\n",
    "visualizer = dict(type='UniversalVisualizer', vis_backends=vis_backends)\n",
    "\n",
    "# set log level\n",
    "log_level = 'INFO'\n",
    "\n",
    "# load from which checkpoint\n",
    "load_from = None\n",
    "\n",
    "# whether to resume training from the loaded checkpoint\n",
    "resume = False\n",
    "\n",
    "# Defaults to use random seed and disable `deterministic`\n",
    "randomness = dict(seed=None, deterministic=False)"
   ]
  },
  {
   "cell_type": "markdown",
   "id": "60edf20d",
   "metadata": {
    "execution": {
     "iopub.execute_input": "2023-06-11T08:07:36.036788Z",
     "iopub.status.busy": "2023-06-11T08:07:36.035959Z",
     "iopub.status.idle": "2023-06-11T08:07:36.046398Z",
     "shell.execute_reply": "2023-06-11T08:07:36.045059Z",
     "shell.execute_reply.started": "2023-06-11T08:07:36.036618Z"
    }
   },
   "source": [
    "### 准备数据集"
   ]
  },
  {
   "cell_type": "markdown",
   "id": "ee98aa05",
   "metadata": {},
   "source": [
    "- 基于mmpretrain.datasets.CustomDataset，在配置文件中写好相关配置。\n",
    "- 有两种构建数据集的方法：\n",
    "    - 使用ann_file。一行记录**一个样本文件的位置**和**相应的标签**（有监督任务有标签，无监督任务无标签）。\n",
    "    - 不使用ann_file。对于有监督任务，将不同类别的样本文件存储到不同文件夹中，且文件夹的名称为类别名称。对于无监督任务，将所有样本文件存在一个特定文件夹中。\n",
    "- 通过第一种方法构建数据集："
   ]
  },
  {
   "cell_type": "code",
   "execution_count": 19,
   "id": "954bc39d",
   "metadata": {
    "tags": []
   },
   "outputs": [],
   "source": [
    "from glob import glob\n",
    "import random\n",
    "import os\n",
    "\n",
    "split_rate = 0.8\n",
    "samples = glob(\"./data/fruit30_train/*/*.jpg\")"
   ]
  },
  {
   "cell_type": "code",
   "execution_count": 20,
   "id": "deec9afd",
   "metadata": {
    "tags": []
   },
   "outputs": [
    {
     "data": {
      "text/plain": [
       "'./data/fruit30_train/榴莲/5.jpg'"
      ]
     },
     "execution_count": 20,
     "metadata": {},
     "output_type": "execute_result"
    }
   ],
   "source": [
    "samples[0]"
   ]
  },
  {
   "cell_type": "code",
   "execution_count": 22,
   "id": "af2e5435",
   "metadata": {
    "tags": []
   },
   "outputs": [],
   "source": [
    "seed_num = 2023\n",
    "random.seed(seed_num)"
   ]
  },
  {
   "cell_type": "code",
   "execution_count": 23,
   "id": "f16f7e7f",
   "metadata": {
    "tags": []
   },
   "outputs": [],
   "source": [
    "random.shuffle(samples)"
   ]
  },
  {
   "cell_type": "code",
   "execution_count": 24,
   "id": "0bac8b0a",
   "metadata": {
    "tags": []
   },
   "outputs": [],
   "source": [
    "train_samples = samples[:int(split_rate*len(samples))]\n",
    "val_samples = samples[int(split_rate*len(samples)):]"
   ]
  },
  {
   "cell_type": "code",
   "execution_count": 25,
   "id": "7d19e81e",
   "metadata": {
    "tags": []
   },
   "outputs": [],
   "source": [
    "cls_names = [\"榴莲\", \"葡萄-红\", \"哈密瓜\", \"香蕉\", \"黄瓜\", \"梨\", \"胡萝卜\", \"西瓜\", \"杨梅\", \"苹果-青\", \"车厘子\", \\\n",
    "             \"脐橙\", \"苦瓜\", \"山竹\", \"圣女果\", \"石榴\", \"火龙果\", \"柚子\", \"菠萝\", \"葡萄-白\", \"苹果-红\", \"芒果\", \\\n",
    "             \"柠檬\", \"猕猴桃\", \"砂糖橘\", \"西红柿\", \"荔枝\", \"草莓\", \"桂圆\", \"椰子\"]"
   ]
  },
  {
   "cell_type": "code",
   "execution_count": 26,
   "id": "f8914493",
   "metadata": {
    "tags": []
   },
   "outputs": [],
   "source": [
    "with open(os.path.join(\"./data/fruit30_train\", \"train.txt\"), \"w\") as f:\n",
    "    for sample in train_samples:\n",
    "        cls_name = sample.split(\"/\")[-2]\n",
    "        f.write(f\"{sample} {cls_names.index(cls_name)}\\n\")\n",
    "with open(os.path.join(\"./data/fruit30_train\", \"val.txt\"), \"w\") as f:\n",
    "    for sample in val_samples:\n",
    "        cls_name = sample.split(\"/\")[-2]\n",
    "        f.write(f\"{sample} {cls_names.index(cls_name)}\\n\")"
   ]
  },
  {
   "cell_type": "markdown",
   "id": "52690cd2",
   "metadata": {},
   "source": [
    "### 编写自己使用的配置文件"
   ]
  },
  {
   "cell_type": "code",
   "execution_count": 27,
   "id": "db01216d",
   "metadata": {
    "tags": []
   },
   "outputs": [],
   "source": [
    "from mmengine.config import Config"
   ]
  },
  {
   "cell_type": "code",
   "execution_count": 28,
   "id": "6f91b397",
   "metadata": {
    "tags": []
   },
   "outputs": [
    {
     "name": "stdout",
     "output_type": "stream",
     "text": [
      "Config:\n",
      "model = dict(\n",
      "    type='ImageClassifier',\n",
      "    backbone=dict(\n",
      "        type='ResNet_CIFAR',\n",
      "        depth=50,\n",
      "        num_stages=4,\n",
      "        out_indices=(3, ),\n",
      "        style='pytorch'),\n",
      "    neck=dict(type='GlobalAveragePooling'),\n",
      "    head=dict(\n",
      "        type='LinearClsHead',\n",
      "        num_classes=100,\n",
      "        in_channels=2048,\n",
      "        loss=dict(type='CrossEntropyLoss', loss_weight=1.0)))\n",
      "dataset_type = 'CIFAR100'\n",
      "data_preprocessor = dict(\n",
      "    num_classes=100,\n",
      "    mean=[129.304, 124.07, 112.434],\n",
      "    std=[68.17, 65.392, 70.418],\n",
      "    to_rgb=False)\n",
      "train_pipeline = [\n",
      "    dict(type='RandomCrop', crop_size=32, padding=4),\n",
      "    dict(type='RandomFlip', prob=0.5, direction='horizontal'),\n",
      "    dict(type='PackInputs')\n",
      "]\n",
      "test_pipeline = [dict(type='PackInputs')]\n",
      "train_dataloader = dict(\n",
      "    batch_size=16,\n",
      "    num_workers=2,\n",
      "    dataset=dict(\n",
      "        type='CIFAR100',\n",
      "        data_root='data/cifar100',\n",
      "        split='train',\n",
      "        pipeline=[\n",
      "            dict(type='RandomCrop', crop_size=32, padding=4),\n",
      "            dict(type='RandomFlip', prob=0.5, direction='horizontal'),\n",
      "            dict(type='PackInputs')\n",
      "        ]),\n",
      "    sampler=dict(type='DefaultSampler', shuffle=True))\n",
      "val_dataloader = dict(\n",
      "    batch_size=16,\n",
      "    num_workers=2,\n",
      "    dataset=dict(\n",
      "        type='CIFAR100',\n",
      "        data_root='data/cifar100/',\n",
      "        split='test',\n",
      "        pipeline=[dict(type='PackInputs')]),\n",
      "    sampler=dict(type='DefaultSampler', shuffle=False))\n",
      "val_evaluator = dict(type='Accuracy', topk=(1, ))\n",
      "test_dataloader = dict(\n",
      "    batch_size=16,\n",
      "    num_workers=2,\n",
      "    dataset=dict(\n",
      "        type='CIFAR100',\n",
      "        data_root='data/cifar100/',\n",
      "        split='test',\n",
      "        pipeline=[dict(type='PackInputs')]),\n",
      "    sampler=dict(type='DefaultSampler', shuffle=False))\n",
      "test_evaluator = dict(type='Accuracy', topk=(1, ))\n",
      "optim_wrapper = dict(\n",
      "    optimizer=dict(type='SGD', lr=0.1, momentum=0.9, weight_decay=0.0005))\n",
      "param_scheduler = dict(\n",
      "    type='MultiStepLR', by_epoch=True, milestones=[60, 120, 160], gamma=0.2)\n",
      "train_cfg = dict(by_epoch=True, max_epochs=200, val_interval=1)\n",
      "val_cfg = dict()\n",
      "test_cfg = dict()\n",
      "auto_scale_lr = dict(base_batch_size=128)\n",
      "default_scope = 'mmpretrain'\n",
      "default_hooks = dict(\n",
      "    timer=dict(type='IterTimerHook'),\n",
      "    logger=dict(type='LoggerHook', interval=100),\n",
      "    param_scheduler=dict(type='ParamSchedulerHook'),\n",
      "    checkpoint=dict(type='CheckpointHook', interval=1),\n",
      "    sampler_seed=dict(type='DistSamplerSeedHook'),\n",
      "    visualization=dict(type='VisualizationHook', enable=False))\n",
      "env_cfg = dict(\n",
      "    cudnn_benchmark=False,\n",
      "    mp_cfg=dict(mp_start_method='fork', opencv_num_threads=0),\n",
      "    dist_cfg=dict(backend='nccl'))\n",
      "vis_backends = [dict(type='LocalVisBackend')]\n",
      "visualizer = dict(\n",
      "    type='UniversalVisualizer', vis_backends=[dict(type='LocalVisBackend')])\n",
      "log_level = 'INFO'\n",
      "load_from = None\n",
      "resume = False\n",
      "randomness = dict(seed=None, deterministic=False)\n",
      "\n"
     ]
    }
   ],
   "source": [
    "cfg = Config.fromfile(\"./mmpretrain/configs/resnet/resnet50_8xb16_cifar100.py\")\n",
    "# 输出配置文件内容\n",
    "print(f\"Config:\\n{cfg.pretty_text}\")"
   ]
  },
  {
   "cell_type": "markdown",
   "id": "b71754e3",
   "metadata": {
    "execution": {
     "iopub.execute_input": "2023-06-11T12:33:59.624993Z",
     "iopub.status.busy": "2023-06-11T12:33:59.624318Z",
     "iopub.status.idle": "2023-06-11T12:33:59.632324Z",
     "shell.execute_reply": "2023-06-11T12:33:59.630429Z",
     "shell.execute_reply.started": "2023-06-11T12:33:59.624931Z"
    }
   },
   "source": [
    "### 模型训练 + 模型推理"
   ]
  },
  {
   "cell_type": "code",
   "execution_count": null,
   "id": "b2d58acc",
   "metadata": {
    "tags": []
   },
   "outputs": [],
   "source": [
    "### 通过命令行方式训练\n",
    "!mim train mmpretrain ./resnet50_finetune.py --resume=exps/epoch_20.pth"
   ]
  },
  {
   "cell_type": "markdown",
   "id": "2686ea96-8eba-4d4f-8a75-d67968bec91a",
   "metadata": {},
   "source": [
    "经过20个epoch训练后，获得的模型在验证集上的结果如下："
   ]
  },
  {
   "cell_type": "markdown",
   "id": "59809354-10ad-40d8-86cd-b2b6f545555f",
   "metadata": {},
   "source": [
    "<img src=\"./eval_res.png\" width = 120%/>"
   ]
  },
  {
   "cell_type": "code",
   "execution_count": 1,
   "id": "4cb0d0ba-cbc5-43f8-bc1a-2bf1c9e10e8c",
   "metadata": {},
   "outputs": [
    {
     "name": "stdout",
     "output_type": "stream",
     "text": [
      "Testing command is /usr/bin/python3.7 /usr/local/lib/python3.7/dist-packages/mmpretrain/.mim/tools/test.py resnet50_finetune.py exps/epoch_20.pth --launcher none --out test_result.pkl. \n",
      "06/13 10:43:34 - mmengine - \u001b[4m\u001b[97mINFO\u001b[0m - \n",
      "------------------------------------------------------------\n",
      "System environment:\n",
      "    sys.platform: linux\n",
      "    Python: 3.7.5 (default, Dec  9 2021, 17:04:37) [GCC 8.4.0]\n",
      "    CUDA available: True\n",
      "    numpy_random_seed: 2023\n",
      "    GPU 0: Tesla T4\n",
      "    CUDA_HOME: /usr/local/cuda\n",
      "    NVCC: Cuda compilation tools, release 11.1, V11.1.105\n",
      "    GCC: x86_64-linux-gnu-gcc (Ubuntu 7.5.0-3ubuntu1~18.04) 7.5.0\n",
      "    PyTorch: 1.10.0+cu111\n",
      "    PyTorch compiling details: PyTorch built with:\n",
      "  - GCC 7.3\n",
      "  - C++ Version: 201402\n",
      "  - Intel(R) Math Kernel Library Version 2020.0.0 Product Build 20191122 for Intel(R) 64 architecture applications\n",
      "  - Intel(R) MKL-DNN v2.2.3 (Git Hash 7336ca9f055cf1bfa13efb658fe15dc9b41f0740)\n",
      "  - OpenMP 201511 (a.k.a. OpenMP 4.5)\n",
      "  - LAPACK is enabled (usually provided by MKL)\n",
      "  - NNPACK is enabled\n",
      "  - CPU capability usage: AVX512\n",
      "  - CUDA Runtime 11.1\n",
      "  - NVCC architecture flags: -gencode;arch=compute_37,code=sm_37;-gencode;arch=compute_50,code=sm_50;-gencode;arch=compute_60,code=sm_60;-gencode;arch=compute_70,code=sm_70;-gencode;arch=compute_75,code=sm_75;-gencode;arch=compute_80,code=sm_80;-gencode;arch=compute_86,code=sm_86\n",
      "  - CuDNN 8.0.5\n",
      "  - Magma 2.5.2\n",
      "  - Build settings: BLAS_INFO=mkl, BUILD_TYPE=Release, CUDA_VERSION=11.1, CUDNN_VERSION=8.0.5, CXX_COMPILER=/opt/rh/devtoolset-7/root/usr/bin/c++, CXX_FLAGS= -Wno-deprecated -fvisibility-inlines-hidden -DUSE_PTHREADPOOL -fopenmp -DNDEBUG -DUSE_KINETO -DUSE_FBGEMM -DUSE_QNNPACK -DUSE_PYTORCH_QNNPACK -DUSE_XNNPACK -DSYMBOLICATE_MOBILE_DEBUG_HANDLE -DEDGE_PROFILER_USE_KINETO -O2 -fPIC -Wno-narrowing -Wall -Wextra -Werror=return-type -Wno-missing-field-initializers -Wno-type-limits -Wno-array-bounds -Wno-unknown-pragmas -Wno-sign-compare -Wno-unused-parameter -Wno-unused-variable -Wno-unused-function -Wno-unused-result -Wno-unused-local-typedefs -Wno-strict-overflow -Wno-strict-aliasing -Wno-error=deprecated-declarations -Wno-stringop-overflow -Wno-psabi -Wno-error=pedantic -Wno-error=redundant-decls -Wno-error=old-style-cast -fdiagnostics-color=always -faligned-new -Wno-unused-but-set-variable -Wno-maybe-uninitialized -fno-math-errno -fno-trapping-math -Werror=format -Wno-stringop-overflow, LAPACK_INFO=mkl, PERF_WITH_AVX=1, PERF_WITH_AVX2=1, PERF_WITH_AVX512=1, TORCH_VERSION=1.10.0, USE_CUDA=ON, USE_CUDNN=ON, USE_EXCEPTION_PTR=1, USE_GFLAGS=OFF, USE_GLOG=OFF, USE_MKL=ON, USE_MKLDNN=ON, USE_MPI=OFF, USE_NCCL=ON, USE_NNPACK=ON, USE_OPENMP=ON, \n",
      "\n",
      "    TorchVision: 0.11.0+cu111\n",
      "    OpenCV: 4.7.0\n",
      "    MMEngine: 0.7.3\n",
      "\n",
      "Runtime environment:\n",
      "    cudnn_benchmark: False\n",
      "    mp_cfg: {'mp_start_method': 'fork', 'opencv_num_threads': 0}\n",
      "    dist_cfg: {'backend': 'nccl'}\n",
      "    seed: 2023\n",
      "    deterministic: False\n",
      "    Distributed launcher: none\n",
      "    Distributed training: False\n",
      "    GPU number: 1\n",
      "------------------------------------------------------------\n",
      "\n",
      "06/13 10:43:34 - mmengine - \u001b[4m\u001b[97mINFO\u001b[0m - Config:\n",
      "num_classes = 30\n",
      "dataset_type = 'CustomDataset'\n",
      "batch_size = 8\n",
      "max_epochs = 20\n",
      "seed_num = 2023\n",
      "data_root = ''\n",
      "img_dir = ''\n",
      "train_ann_file = './data/fruit30_train/train.txt'\n",
      "val_ann_file = './data/fruit30_train/val.txt'\n",
      "test_ann_file = './data/fruit30_train/val.txt'\n",
      "ckpt_path = './resnet50_b16x8_cifar100_20210528-67b58a1b.pth'\n",
      "work_dir = './exps'\n",
      "cls_names = ('榴莲', '葡萄-红', '哈密瓜', '香蕉', '黄瓜', '梨', '胡萝卜', '西瓜', '杨梅', '苹果-青',\n",
      "             '车厘子', '脐橙', '苦瓜', '山竹', '圣女果', '石榴', '火龙果', '柚子', '菠萝', '葡萄-白',\n",
      "             '苹果-红', '芒果', '柠檬', '猕猴桃', '砂糖橘', '西红柿', '荔枝', '草莓', '桂圆', '椰子')\n",
      "ckpt_interval = 1\n",
      "save_best = 'auto'\n",
      "save_last = True\n",
      "max_keep_ckpts = 2\n",
      "model = dict(\n",
      "    type='ImageClassifier',\n",
      "    backbone=dict(\n",
      "        type='ResNet_CIFAR',\n",
      "        depth=50,\n",
      "        num_stages=4,\n",
      "        out_indices=(3, ),\n",
      "        style='pytorch'),\n",
      "    neck=dict(type='GlobalAveragePooling'),\n",
      "    head=dict(\n",
      "        type='LinearClsHead',\n",
      "        num_classes=30,\n",
      "        in_channels=2048,\n",
      "        loss=dict(type='CrossEntropyLoss', loss_weight=1.0)),\n",
      "    init_cfg=dict(\n",
      "        type='Pretrained',\n",
      "        checkpoint='./resnet50_b16x8_cifar100_20210528-67b58a1b.pth'))\n",
      "data_preprocessor = dict(\n",
      "    num_classes=30,\n",
      "    mean=[129.304, 124.07, 112.434],\n",
      "    std=[68.17, 65.392, 70.418],\n",
      "    to_rgb=False)\n",
      "train_pipeline = [\n",
      "    dict(type='LoadImageFromFile'),\n",
      "    dict(type='RandomResizedCrop', scale=224),\n",
      "    dict(type='RandomFlip', prob=0.5, direction='horizontal'),\n",
      "    dict(type='PackInputs')\n",
      "]\n",
      "test_pipeline = [\n",
      "    dict(type='LoadImageFromFile'),\n",
      "    dict(type='ResizeEdge', scale=256, edge='short'),\n",
      "    dict(type='CenterCrop', crop_size=224),\n",
      "    dict(type='PackInputs')\n",
      "]\n",
      "train_dataloader = dict(\n",
      "    batch_size=8,\n",
      "    num_workers=2,\n",
      "    dataset=dict(\n",
      "        type='CustomDataset',\n",
      "        ann_file='./data/fruit30_train/train.txt',\n",
      "        data_root='',\n",
      "        data_prefix=dict(img_path=''),\n",
      "        with_label=True,\n",
      "        metainfo=dict(\n",
      "            classes=('榴莲', '葡萄-红', '哈密瓜', '香蕉', '黄瓜', '梨', '胡萝卜', '西瓜', '杨梅',\n",
      "                     '苹果-青', '车厘子', '脐橙', '苦瓜', '山竹', '圣女果', '石榴', '火龙果', '柚子',\n",
      "                     '菠萝', '葡萄-白', '苹果-红', '芒果', '柠檬', '猕猴桃', '砂糖橘', '西红柿',\n",
      "                     '荔枝', '草莓', '桂圆', '椰子')),\n",
      "        pipeline=[\n",
      "            dict(type='LoadImageFromFile'),\n",
      "            dict(type='RandomResizedCrop', scale=224),\n",
      "            dict(type='RandomFlip', prob=0.5, direction='horizontal'),\n",
      "            dict(type='PackInputs')\n",
      "        ]),\n",
      "    sampler=dict(type='DefaultSampler', shuffle=True))\n",
      "val_dataloader = dict(\n",
      "    batch_size=8,\n",
      "    num_workers=2,\n",
      "    dataset=dict(\n",
      "        type='CustomDataset',\n",
      "        ann_file='./data/fruit30_train/val.txt',\n",
      "        data_root='',\n",
      "        data_prefix=dict(img_path=''),\n",
      "        with_label=True,\n",
      "        metainfo=dict(\n",
      "            classes=('榴莲', '葡萄-红', '哈密瓜', '香蕉', '黄瓜', '梨', '胡萝卜', '西瓜', '杨梅',\n",
      "                     '苹果-青', '车厘子', '脐橙', '苦瓜', '山竹', '圣女果', '石榴', '火龙果', '柚子',\n",
      "                     '菠萝', '葡萄-白', '苹果-红', '芒果', '柠檬', '猕猴桃', '砂糖橘', '西红柿',\n",
      "                     '荔枝', '草莓', '桂圆', '椰子')),\n",
      "        pipeline=[\n",
      "            dict(type='LoadImageFromFile'),\n",
      "            dict(type='ResizeEdge', scale=256, edge='short'),\n",
      "            dict(type='CenterCrop', crop_size=224),\n",
      "            dict(type='PackInputs')\n",
      "        ]),\n",
      "    sampler=dict(type='DefaultSampler', shuffle=False))\n",
      "val_evaluator = dict(type='Accuracy', topk=(1, 5))\n",
      "test_dataloader = dict(\n",
      "    pin_memory=True,\n",
      "    collate_fn=dict(type='default_collate'),\n",
      "    batch_size=8,\n",
      "    num_workers=2,\n",
      "    dataset=dict(\n",
      "        type='CustomDataset',\n",
      "        ann_file='./data/fruit30_train/val.txt',\n",
      "        data_root='',\n",
      "        data_prefix=dict(img_path=''),\n",
      "        with_label=True,\n",
      "        metainfo=dict(\n",
      "            classes=('榴莲', '葡萄-红', '哈密瓜', '香蕉', '黄瓜', '梨', '胡萝卜', '西瓜', '杨梅',\n",
      "                     '苹果-青', '车厘子', '脐橙', '苦瓜', '山竹', '圣女果', '石榴', '火龙果', '柚子',\n",
      "                     '菠萝', '葡萄-白', '苹果-红', '芒果', '柠檬', '猕猴桃', '砂糖橘', '西红柿',\n",
      "                     '荔枝', '草莓', '桂圆', '椰子')),\n",
      "        pipeline=[\n",
      "            dict(type='LoadImageFromFile'),\n",
      "            dict(type='ResizeEdge', scale=256, edge='short'),\n",
      "            dict(type='CenterCrop', crop_size=224),\n",
      "            dict(type='PackInputs')\n",
      "        ]),\n",
      "    sampler=dict(type='DefaultSampler', shuffle=False))\n",
      "test_evaluator = dict(type='Accuracy', topk=(1, 5))\n",
      "optim_wrapper = dict(\n",
      "    optimizer=dict(type='SGD', lr=0.00625, momentum=0.9, weight_decay=0.0005))\n",
      "param_scheduler = dict(\n",
      "    type='MultiStepLR', by_epoch=True, milestones=[6, 12, 16], gamma=0.2)\n",
      "train_cfg = dict(by_epoch=True, max_epochs=20, val_interval=1)\n",
      "val_cfg = dict()\n",
      "test_cfg = dict()\n",
      "default_scope = 'mmpretrain'\n",
      "default_hooks = dict(\n",
      "    timer=dict(type='IterTimerHook'),\n",
      "    logger=dict(type='LoggerHook', interval=10),\n",
      "    param_scheduler=dict(type='ParamSchedulerHook'),\n",
      "    checkpoint=dict(\n",
      "        type='CheckpointHook',\n",
      "        interval=1,\n",
      "        save_best='auto',\n",
      "        save_last=True,\n",
      "        max_keep_ckpts=2),\n",
      "    sampler_seed=dict(type='DistSamplerSeedHook'),\n",
      "    visualization=dict(type='VisualizationHook', enable=False))\n",
      "env_cfg = dict(\n",
      "    cudnn_benchmark=False,\n",
      "    mp_cfg=dict(mp_start_method='fork', opencv_num_threads=0),\n",
      "    dist_cfg=dict(backend='nccl'))\n",
      "log_level = 'INFO'\n",
      "load_from = 'exps/epoch_20.pth'\n",
      "resume = False\n",
      "randomness = dict(seed=2023, deterministic=False)\n",
      "launcher = 'none'\n",
      "\n",
      "06/13 10:43:47 - mmengine - \u001b[4m\u001b[97mINFO\u001b[0m - Distributed training is not used, all SyncBatchNorm (SyncBN) layers in the model will be automatically reverted to BatchNormXd layers if they are used.\n",
      "06/13 10:43:47 - mmengine - \u001b[4m\u001b[97mINFO\u001b[0m - Hooks will be executed in the following order:\n",
      "before_run:\n",
      "(VERY_HIGH   ) RuntimeInfoHook                    \n",
      "(BELOW_NORMAL) LoggerHook                         \n",
      " -------------------- \n",
      "before_train:\n",
      "(VERY_HIGH   ) RuntimeInfoHook                    \n",
      "(NORMAL      ) IterTimerHook                      \n",
      "(VERY_LOW    ) CheckpointHook                     \n",
      " -------------------- \n",
      "before_train_epoch:\n",
      "(VERY_HIGH   ) RuntimeInfoHook                    \n",
      "(NORMAL      ) IterTimerHook                      \n",
      "(NORMAL      ) DistSamplerSeedHook                \n",
      " -------------------- \n",
      "before_train_iter:\n",
      "(VERY_HIGH   ) RuntimeInfoHook                    \n",
      "(NORMAL      ) IterTimerHook                      \n",
      " -------------------- \n",
      "after_train_iter:\n",
      "(VERY_HIGH   ) RuntimeInfoHook                    \n",
      "(NORMAL      ) IterTimerHook                      \n",
      "(BELOW_NORMAL) LoggerHook                         \n",
      "(LOW         ) ParamSchedulerHook                 \n",
      "(VERY_LOW    ) CheckpointHook                     \n",
      " -------------------- \n",
      "after_train_epoch:\n",
      "(NORMAL      ) IterTimerHook                      \n",
      "(LOW         ) ParamSchedulerHook                 \n",
      "(VERY_LOW    ) CheckpointHook                     \n",
      " -------------------- \n",
      "before_val_epoch:\n",
      "(NORMAL      ) IterTimerHook                      \n",
      " -------------------- \n",
      "before_val_iter:\n",
      "(NORMAL      ) IterTimerHook                      \n",
      " -------------------- \n",
      "after_val_iter:\n",
      "(NORMAL      ) IterTimerHook                      \n",
      "(NORMAL      ) VisualizationHook                  \n",
      "(BELOW_NORMAL) LoggerHook                         \n",
      " -------------------- \n",
      "after_val_epoch:\n",
      "(VERY_HIGH   ) RuntimeInfoHook                    \n",
      "(NORMAL      ) IterTimerHook                      \n",
      "(BELOW_NORMAL) LoggerHook                         \n",
      "(LOW         ) ParamSchedulerHook                 \n",
      "(VERY_LOW    ) CheckpointHook                     \n",
      " -------------------- \n",
      "after_train:\n",
      "(VERY_LOW    ) CheckpointHook                     \n",
      " -------------------- \n",
      "before_test_epoch:\n",
      "(NORMAL      ) IterTimerHook                      \n",
      " -------------------- \n",
      "before_test_iter:\n",
      "(NORMAL      ) IterTimerHook                      \n",
      " -------------------- \n",
      "after_test_iter:\n",
      "(NORMAL      ) IterTimerHook                      \n",
      "(NORMAL      ) VisualizationHook                  \n",
      "(BELOW_NORMAL) LoggerHook                         \n",
      " -------------------- \n",
      "after_test_epoch:\n",
      "(VERY_HIGH   ) RuntimeInfoHook                    \n",
      "(NORMAL      ) IterTimerHook                      \n",
      "(BELOW_NORMAL) LoggerHook                         \n",
      " -------------------- \n",
      "after_run:\n",
      "(BELOW_NORMAL) LoggerHook                         \n",
      " -------------------- \n",
      "06/13 10:43:47 - mmengine - \u001b[5m\u001b[4m\u001b[33mWARNING\u001b[0m - The prefix is not set in metric class DumpResults.\n",
      "Loads checkpoint by local backend from path: exps/epoch_20.pth\n",
      "06/13 10:43:48 - mmengine - \u001b[4m\u001b[97mINFO\u001b[0m - Load checkpoint from exps/epoch_20.pth\n",
      "06/13 10:43:51 - mmengine - \u001b[4m\u001b[97mINFO\u001b[0m - Epoch(test) [10/93]    eta: 0:00:29  time: 0.3514  data_time: 0.0190  memory: 1368  \n",
      "06/13 10:43:54 - mmengine - \u001b[4m\u001b[97mINFO\u001b[0m - Epoch(test) [20/93]    eta: 0:00:24  time: 0.3153  data_time: 0.0005  memory: 1368  \n",
      "06/13 10:43:58 - mmengine - \u001b[4m\u001b[97mINFO\u001b[0m - Epoch(test) [30/93]    eta: 0:00:20  time: 0.3167  data_time: 0.0004  memory: 1368  \n",
      "06/13 10:44:01 - mmengine - \u001b[4m\u001b[97mINFO\u001b[0m - Epoch(test) [40/93]    eta: 0:00:17  time: 0.3172  data_time: 0.0004  memory: 1368  \n",
      "06/13 10:44:04 - mmengine - \u001b[4m\u001b[97mINFO\u001b[0m - Epoch(test) [50/93]    eta: 0:00:13  time: 0.3179  data_time: 0.0004  memory: 1368  \n",
      "06/13 10:44:07 - mmengine - \u001b[4m\u001b[97mINFO\u001b[0m - Epoch(test) [60/93]    eta: 0:00:10  time: 0.3188  data_time: 0.0004  memory: 1368  \n",
      "06/13 10:44:10 - mmengine - \u001b[4m\u001b[97mINFO\u001b[0m - Epoch(test) [70/93]    eta: 0:00:07  time: 0.3196  data_time: 0.0004  memory: 1368  \n",
      "06/13 10:44:13 - mmengine - \u001b[4m\u001b[97mINFO\u001b[0m - Epoch(test) [80/93]    eta: 0:00:04  time: 0.3205  data_time: 0.0004  memory: 1368  \n",
      "06/13 10:44:17 - mmengine - \u001b[4m\u001b[97mINFO\u001b[0m - Epoch(test) [90/93]    eta: 0:00:00  time: 0.3208  data_time: 0.0004  memory: 1368  \n",
      "06/13 10:44:18 - mmengine - \u001b[4m\u001b[97mINFO\u001b[0m - Results has been saved to test_result.pkl.\n",
      "06/13 10:44:18 - mmengine - \u001b[4m\u001b[97mINFO\u001b[0m - Epoch(test) [93/93]    accuracy/top1: 82.2342  accuracy/top5: 96.6353  data_time: 0.0024  time: 0.3216\n",
      "\u001b[32mTesting finished successfully.\u001b[0m\n"
     ]
    }
   ],
   "source": [
    "# 保存模型在测试集上的输出结果\n",
    "!mim test mmpretrain resnet50_finetune.py --checkpoint exps/epoch_20.pth --out test_result.pkl"
   ]
  },
  {
   "cell_type": "code",
   "execution_count": null,
   "id": "714cf988-ade4-4730-8578-bed751d8e6ca",
   "metadata": {},
   "outputs": [],
   "source": [
    "# 分析模型推理结果\n",
    "!mim run mmpretrain analyze_results resnet50_finetune.py test_result.pkl --out-dir analyze"
   ]
  },
  {
   "cell_type": "code",
   "execution_count": null,
   "id": "f5a1b174-8aaa-4f46-af25-5e947eb59fc4",
   "metadata": {},
   "outputs": [],
   "source": [
    "# 绘制混淆矩阵\n",
    "!mim run mmpretrain confusion_matrix resnet50_finetune.py test_result.pkl --show --include-values --show-path analyze/confusion_matrix.jpg"
   ]
  },
  {
   "cell_type": "code",
   "execution_count": 2,
   "id": "918d2267-a20f-4007-a1eb-38841b85615a",
   "metadata": {},
   "outputs": [
    {
     "name": "stderr",
     "output_type": "stream",
     "text": [
      "/usr/local/lib/python3.7/dist-packages/tqdm/auto.py:21: TqdmWarning: IProgress not found. Please update jupyter and ipywidgets. See https://ipywidgets.readthedocs.io/en/stable/user_install.html\n",
      "  from .autonotebook import tqdm as notebook_tqdm\n"
     ]
    }
   ],
   "source": [
    "from mmpretrain import ImageClassificationInferencer"
   ]
  },
  {
   "cell_type": "code",
   "execution_count": 3,
   "id": "4beb6935-a160-4abd-97a7-420dbe4afe72",
   "metadata": {},
   "outputs": [
    {
     "name": "stdout",
     "output_type": "stream",
     "text": [
      "Loads checkpoint by local backend from path: exps/epoch_20.pth\n"
     ]
    }
   ],
   "source": [
    "inferencer = ImageClassificationInferencer(\"resnet50_finetune.py\", pretrained=\"exps/epoch_20.pth\")"
   ]
  },
  {
   "cell_type": "code",
   "execution_count": 4,
   "id": "24a7889e-f963-420d-95d5-10fdbb114013",
   "metadata": {},
   "outputs": [
    {
     "data": {
      "text/html": [
       "<pre style=\"white-space:pre;overflow-x:auto;line-height:normal;font-family:Menlo,'DejaVu Sans Mono',consolas,'Courier New',monospace\">/usr/local/lib/python3.7/dist-packages/rich/live.py:231: UserWarning: install \"ipywidgets\" for Jupyter support\n",
       "  warnings.warn('install \"ipywidgets\" for Jupyter support')\n",
       "</pre>\n"
      ],
      "text/plain": [
       "/usr/local/lib/python3.7/dist-packages/rich/live.py:231: UserWarning: install \"ipywidgets\" for Jupyter support\n",
       "  warnings.warn('install \"ipywidgets\" for Jupyter support')\n"
      ]
     },
     "metadata": {},
     "output_type": "display_data"
    },
    {
     "data": {
      "text/html": [
       "<pre style=\"white-space:pre;overflow-x:auto;line-height:normal;font-family:Menlo,'DejaVu Sans Mono',consolas,'Courier New',monospace\"></pre>\n"
      ],
      "text/plain": []
     },
     "metadata": {},
     "output_type": "display_data"
    },
    {
     "name": "stdout",
     "output_type": "stream",
     "text": [
      "06/13 11:12:46 - mmengine - WARNING - `Visualizer` backend is not initialized because save_dir is None.\n"
     ]
    },
    {
     "name": "stderr",
     "output_type": "stream",
     "text": [
      "/usr/local/lib/python3.7/dist-packages/mmengine/visualization/utils.py:240: UserWarning: Glyph 39321 (\\N{CJK UNIFIED IDEOGRAPH-9999}) missing from current font.\n",
      "  s, (width, height) = canvas.print_to_buffer()\n",
      "/usr/local/lib/python3.7/dist-packages/mmengine/visualization/utils.py:240: UserWarning: Glyph 34121 (\\N{CJK UNIFIED IDEOGRAPH-8549}) missing from current font.\n",
      "  s, (width, height) = canvas.print_to_buffer()\n",
      "/usr/local/lib/python3.7/dist-packages/mmengine/visualization/utils.py:240: UserWarning: Glyph 39321 (\\N{CJK UNIFIED IDEOGRAPH-9999}) missing from current font.\n",
      "  s, (width, height) = canvas.print_to_buffer()\n",
      "/usr/local/lib/python3.7/dist-packages/mmengine/visualization/utils.py:240: UserWarning: Glyph 34121 (\\N{CJK UNIFIED IDEOGRAPH-8549}) missing from current font.\n",
      "  s, (width, height) = canvas.print_to_buffer()\n"
     ]
    },
    {
     "data": {
      "text/plain": [
       "[{'pred_scores': array([7.0043946e-08, 1.1671707e-14, 2.1902098e-08, 9.9986565e-01,\n",
       "         5.0147404e-12, 4.9009530e-10, 7.4981369e-07, 1.1346096e-11,\n",
       "         1.4642233e-13, 1.6326461e-13, 1.2999026e-09, 1.0456781e-11,\n",
       "         6.9831176e-12, 3.6555628e-12, 1.2152419e-12, 1.2270915e-14,\n",
       "         1.6717643e-10, 1.5099388e-10, 1.7756179e-09, 9.3852801e-15,\n",
       "         3.2861872e-13, 1.3347258e-04, 4.9009925e-09, 3.2860884e-12,\n",
       "         4.7004786e-14, 8.1956074e-12, 2.2113972e-14, 1.6768930e-14,\n",
       "         7.6129502e-12, 4.7109379e-09], dtype=float32),\n",
       "  'pred_label': 3,\n",
       "  'pred_score': 0.9998656511306763,\n",
       "  'pred_class': '香蕉'}]"
      ]
     },
     "execution_count": 4,
     "metadata": {},
     "output_type": "execute_result"
    }
   ],
   "source": [
    "# 尝试对额外的水果图片进行分类\n",
    "inferencer(\"pics/banana.jpeg\", show=True)"
   ]
  },
  {
   "cell_type": "code",
   "execution_count": 5,
   "id": "fa8aad79-b3a2-4d20-a634-26ce323a98d2",
   "metadata": {},
   "outputs": [
    {
     "data": {
      "text/html": [
       "<pre style=\"white-space:pre;overflow-x:auto;line-height:normal;font-family:Menlo,'DejaVu Sans Mono',consolas,'Courier New',monospace\">/usr/local/lib/python3.7/dist-packages/rich/live.py:231: UserWarning: install \"ipywidgets\" for Jupyter support\n",
       "  warnings.warn('install \"ipywidgets\" for Jupyter support')\n",
       "</pre>\n"
      ],
      "text/plain": [
       "/usr/local/lib/python3.7/dist-packages/rich/live.py:231: UserWarning: install \"ipywidgets\" for Jupyter support\n",
       "  warnings.warn('install \"ipywidgets\" for Jupyter support')\n"
      ]
     },
     "metadata": {},
     "output_type": "display_data"
    },
    {
     "data": {
      "text/html": [
       "<pre style=\"white-space:pre;overflow-x:auto;line-height:normal;font-family:Menlo,'DejaVu Sans Mono',consolas,'Courier New',monospace\"></pre>\n"
      ],
      "text/plain": []
     },
     "metadata": {},
     "output_type": "display_data"
    },
    {
     "name": "stderr",
     "output_type": "stream",
     "text": [
      "/usr/local/lib/python3.7/dist-packages/mmengine/visualization/utils.py:240: UserWarning: Glyph 26586 (\\N{CJK UNIFIED IDEOGRAPH-67DA}) missing from current font.\n",
      "  s, (width, height) = canvas.print_to_buffer()\n",
      "/usr/local/lib/python3.7/dist-packages/mmengine/visualization/utils.py:240: UserWarning: Glyph 23376 (\\N{CJK UNIFIED IDEOGRAPH-5B50}) missing from current font.\n",
      "  s, (width, height) = canvas.print_to_buffer()\n"
     ]
    },
    {
     "data": {
      "text/plain": [
       "[{'pred_scores': array([1.3026812e-05, 7.7436280e-09, 5.7147922e-06, 5.1061212e-05,\n",
       "         8.8503356e-07, 4.2583770e-03, 2.3051804e-08, 2.3928106e-08,\n",
       "         2.5170422e-07, 4.1931809e-04, 1.2173744e-07, 1.9218169e-05,\n",
       "         6.4998069e-08, 1.3824186e-09, 2.1930281e-07, 1.7321407e-06,\n",
       "         9.4846158e-09, 9.4033623e-01, 8.3879002e-07, 2.9934590e-08,\n",
       "         2.0682224e-05, 2.7510714e-02, 2.7223416e-02, 1.3631719e-04,\n",
       "         2.6424678e-07, 1.4969108e-07, 4.1589956e-08, 7.2123129e-08,\n",
       "         9.9759461e-07, 1.4088471e-07], dtype=float32),\n",
       "  'pred_label': 17,\n",
       "  'pred_score': 0.9403362274169922,\n",
       "  'pred_class': '柚子'}]"
      ]
     },
     "execution_count": 5,
     "metadata": {},
     "output_type": "execute_result"
    }
   ],
   "source": [
    "inferencer(\"pics/green apple.jpg\", show=True)"
   ]
  },
  {
   "cell_type": "code",
   "execution_count": 6,
   "id": "86e50849-ebb8-451a-aea1-88a329af0fe3",
   "metadata": {},
   "outputs": [
    {
     "data": {
      "text/html": [
       "<pre style=\"white-space:pre;overflow-x:auto;line-height:normal;font-family:Menlo,'DejaVu Sans Mono',consolas,'Courier New',monospace\"></pre>\n"
      ],
      "text/plain": []
     },
     "metadata": {},
     "output_type": "display_data"
    },
    {
     "name": "stderr",
     "output_type": "stream",
     "text": [
      "/usr/local/lib/python3.7/dist-packages/mmengine/visualization/utils.py:240: UserWarning: Glyph 36710 (\\N{CJK UNIFIED IDEOGRAPH-8F66}) missing from current font.\n",
      "  s, (width, height) = canvas.print_to_buffer()\n",
      "/usr/local/lib/python3.7/dist-packages/mmengine/visualization/utils.py:240: UserWarning: Glyph 21400 (\\N{CJK UNIFIED IDEOGRAPH-5398}) missing from current font.\n",
      "  s, (width, height) = canvas.print_to_buffer()\n"
     ]
    },
    {
     "data": {
      "text/plain": [
       "[{'pred_scores': array([1.0972156e-03, 2.2617862e-02, 7.6855341e-04, 3.5466619e-02,\n",
       "         2.6029798e-03, 1.7774174e-02, 2.1283848e-03, 1.0753175e-02,\n",
       "         9.0232892e-03, 9.0176845e-03, 5.9965819e-01, 1.7221742e-04,\n",
       "         1.0164080e-03, 7.7657111e-02, 1.1325987e-02, 1.4632294e-02,\n",
       "         4.6262264e-02, 3.6478271e-03, 7.6208467e-04, 3.4460372e-03,\n",
       "         2.3328872e-02, 1.1692651e-02, 2.7811904e-03, 6.6953152e-04,\n",
       "         1.6101952e-04, 1.6314711e-02, 5.1062116e-03, 7.9194140e-03,\n",
       "         2.0198761e-03, 6.0176078e-02], dtype=float32),\n",
       "  'pred_label': 10,\n",
       "  'pred_score': 0.599658191204071,\n",
       "  'pred_class': '车厘子'}]"
      ]
     },
     "execution_count": 6,
     "metadata": {},
     "output_type": "execute_result"
    }
   ],
   "source": [
    "inferencer(\"pics/red apple.jpg\", show=True)"
   ]
  }
 ],
 "metadata": {
  "kernelspec": {
   "display_name": "Python 3 (ipykernel)",
   "language": "python",
   "name": "python3"
  },
  "language_info": {
   "codemirror_mode": {
    "name": "ipython",
    "version": 3
   },
   "file_extension": ".py",
   "mimetype": "text/x-python",
   "name": "python",
   "nbconvert_exporter": "python",
   "pygments_lexer": "ipython3",
   "version": "3.7.5"
  }
 },
 "nbformat": 4,
 "nbformat_minor": 5
}
