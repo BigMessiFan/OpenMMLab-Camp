version https://git-lfs.github.com/spec/v1
oid sha256:91b6c836a2c6897afd24d392ff5b45c206291e461ea613b6f4a6db57be1f0249
size 70910
