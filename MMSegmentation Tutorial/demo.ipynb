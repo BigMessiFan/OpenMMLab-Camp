version https://git-lfs.github.com/spec/v1
oid sha256:d7f9bfe09a3c32918623a6c963791bfa4bc781fc1920920e616a0702a9bcd945
size 11367866
