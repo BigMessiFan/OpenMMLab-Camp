version https://git-lfs.github.com/spec/v1
oid sha256:11f8afba7ab9c0465c1843d409fba93e65be792afc57a19d42035cad593c2bd8
size 723838
