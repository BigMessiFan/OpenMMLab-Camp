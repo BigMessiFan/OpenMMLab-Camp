version https://git-lfs.github.com/spec/v1
oid sha256:42de0780f92bf336f19c151f3f9d2781350efbbb9771de1299510fbc5cfdcee0
size 3018855
