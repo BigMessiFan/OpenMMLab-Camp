version https://git-lfs.github.com/spec/v1
oid sha256:f8dab4929dc778b840013495acce654de5380e1775fa2cd366c943005a6a5566
size 67973
